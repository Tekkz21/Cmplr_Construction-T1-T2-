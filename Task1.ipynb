{
 "cells": [
  {
   "cell_type": "code",
   "execution_count": 10,
   "metadata": {},
   "outputs": [
    {
     "data": {
      "text/plain": [
       "False"
      ]
     },
     "execution_count": 10,
     "metadata": {},
     "output_type": "execute_result"
    }
   ],
   "source": [
    "# Function checks if line is a comment or not\n",
    "def comment(program_line):\n",
    "\n",
    "    line = program_line.strip() # remove whitespace\n",
    "\n",
    "   \n",
    "\n",
    "#If statement checks if the line starts with '#','\"\"\"',\"'''\",'//', or'/*' \n",
    "    if line.startswith('#') or line.startswith ('\"\"\"') or line.startswith (\"'''\") or line.startswith('//') or line.startswith('/*'):  \n",
    "        return True\n",
    "    \n",
    "    else: \n",
    "        return False\n",
    "\n",
    "#Function Testing   \n",
    "line = input(\"Enter your text: \") # Allows user to input\n",
    "comment(program_line=line)\n"
   ]
  },
  {
   "cell_type": "markdown",
   "metadata": {},
   "source": [
    "i.\n",
    "A function 'comment' that takes a line of code as input is defined.\n",
    "Inside the function leading whitespace is removed using 'line = program_line.strip()' accomodate lines with indentation.\n",
    "Then the if statement is used to check if the line starts with '#','\"\"\"',\"'''\",'//', or'/*'.\n",
    "It returns True if the program line begins with them else False if not. \n"
   ]
  },
  {
   "cell_type": "markdown",
   "metadata": {},
   "source": [
    "ii. \n",
    "In this example, lexical analysis is being used to break down input code into tokens.\n",
    "Since this program is being used to check for a simple pattern at the beginning of the program line, syntax analysis has not been extensively used.\n",
    "The lexical analysis concepts were more crucial in this program since it is used to break down the code to tokens for easier interpretation.\n"
   ]
  }
 ],
 "metadata": {
  "kernelspec": {
   "display_name": "Python 3",
   "language": "python",
   "name": "python3"
  },
  "language_info": {
   "codemirror_mode": {
    "name": "ipython",
    "version": 3
   },
   "file_extension": ".py",
   "mimetype": "text/x-python",
   "name": "python",
   "nbconvert_exporter": "python",
   "pygments_lexer": "ipython3",
   "version": "3.11.6"
  }
 },
 "nbformat": 4,
 "nbformat_minor": 2
}
